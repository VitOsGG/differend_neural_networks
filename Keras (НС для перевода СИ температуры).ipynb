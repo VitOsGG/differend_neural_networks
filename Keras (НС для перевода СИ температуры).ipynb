{
 "cells": [
  {
   "cell_type": "code",
   "execution_count": 17,
   "id": "3c875312",
   "metadata": {},
   "outputs": [],
   "source": [
    "import tensorflow as tf\n",
    "from tensorflow import keras\n",
    "from tensorflow.keras.layers import Dense\n",
    "import numpy as np\n",
    "import matplotlib.pyplot as plt"
   ]
  },
  {
   "cell_type": "markdown",
   "id": "cae490fc",
   "metadata": {},
   "source": [
    "Создаем обучающую выборку"
   ]
  },
  {
   "cell_type": "code",
   "execution_count": 8,
   "id": "e8d68b24",
   "metadata": {},
   "outputs": [],
   "source": [
    "c = np.array([-40, -10, 0, 8, 15, 22, 38]) #подаем на вход(градусы цельсия)\n",
    "f = np.array([-40, 14, 32, 46, 59, 72, 100]) #ожидаем на выходе(градусы Фарингейта)"
   ]
  },
  {
   "cell_type": "markdown",
   "id": "87208b4a",
   "metadata": {},
   "source": [
    "Создать модель многослойной НС"
   ]
  },
  {
   "cell_type": "code",
   "execution_count": 11,
   "id": "16c6c6a1",
   "metadata": {},
   "outputs": [],
   "source": [
    "model = keras.Sequential() "
   ]
  },
  {
   "cell_type": "markdown",
   "id": "f5d0eacc",
   "metadata": {},
   "source": [
    "Создаем 1 слой в НС"
   ]
  },
  {
   "cell_type": "code",
   "execution_count": 12,
   "id": "cdae7ddf",
   "metadata": {},
   "outputs": [],
   "source": [
    "model.add(Dense(units=1, input_shape=(1,), activation='linear'))\n",
    "\n",
    "#в модель(model) \n",
    "#добавляем(.add) \n",
    "#первый слой нейронов(Dense) \n",
    "#в котором 1 нейрон(units=1)\n",
    "#у нейрона 1 вход(input_shape=(1,)\n",
    "#активационная функция (activation='linear')"
   ]
  },
  {
   "cell_type": "markdown",
   "id": "39881d7a",
   "metadata": {},
   "source": [
    "Скомпилируем НС. Укажем критерий качетсва и способ оптимизации градиентного спуска."
   ]
  },
  {
   "cell_type": "code",
   "execution_count": 14,
   "id": "1d007b15",
   "metadata": {},
   "outputs": [],
   "source": [
    "model.compile(loss='mean_squared_error', optimizer=keras.optimizers.Adam(0.1))\n",
    "#критерий качества как средний квадрат ошибок (loss='mean_squared_error')\n",
    "#оптимизатор градиентного спуска( optimizer=keras.optimizer.Adam(0.1)), 0.1 - шаг сходимости\n",
    "\n",
    "#когда вызывается метод compile, НС автоматически генерируется с некоторыми начальными случайными весовыми коэффицентами."
   ]
  },
  {
   "cell_type": "markdown",
   "id": "5345a131",
   "metadata": {},
   "source": [
    "Алгоритм обучения НС"
   ]
  },
  {
   "cell_type": "code",
   "execution_count": 15,
   "id": "21550cdd",
   "metadata": {},
   "outputs": [],
   "source": [
    "history = model.fit(c, f, epochs=500, verbose=False)\n",
    "\n",
    "#запуска обучения НС (fit)\n",
    "#входные значения обучающей выборки(c)\n",
    "#выходные значения обучающей выборки(f)\n",
    "#число эпох(epochs=500), по 500 раз пропустим данные(c) и на каждой итеррации будем вычислять (loss='mean_squared_error')\n",
    "#вывод служебной информации в процессе обучения (verbose=False), выведем после обучения"
   ]
  },
  {
   "cell_type": "markdown",
   "id": "aad81e48",
   "metadata": {},
   "source": [
    "Вывод графика"
   ]
  },
  {
   "cell_type": "code",
   "execution_count": 19,
   "id": "a7261335",
   "metadata": {},
   "outputs": [
    {
     "data": {
      "image/png": "[encoded data removed]",
      "text/plain": [
       "<Figure size 640x480 with 1 Axes>"
      ]
     },
     "metadata": {},
     "output_type": "display_data"
    }
   ],
   "source": [
    "plt.plot(history.history['loss']) \n",
    "plt.grid(True)\n",
    "plt.show()"
   ]
  },
  {
   "cell_type": "markdown",
   "id": "07bf8fed",
   "metadata": {},
   "source": [
    "Показатель качества снижался и дошел почти до нуля"
   ]
  },
  {
   "cell_type": "markdown",
   "id": "1310011c",
   "metadata": {},
   "source": [
    "Проверим НС после обучения"
   ]
  },
  {
   "cell_type": "code",
   "execution_count": 21,
   "id": "02da3bb1",
   "metadata": {},
   "outputs": [
    {
     "name": "stdout",
     "output_type": "stream",
     "text": [
      "1/1 [==============================] - 0s 58ms/step\n",
      "[[211.33832]]\n"
     ]
    }
   ],
   "source": [
    "print(model.predict([100]))"
   ]
  },
  {
   "cell_type": "markdown",
   "id": "fbb930ca",
   "metadata": {},
   "source": [
    "100 градувос Цельсия это 212 градусов по Фарингейту\n",
    "\n",
    "Мы получили 211.34\n",
    "\n",
    "Значение близкое к верному \n",
    "\n",
    "НС работает не плохо"
   ]
  },
  {
   "cell_type": "markdown",
   "id": "0ab5212b",
   "metadata": {},
   "source": [
    "Посмотрим весовые коэффициенты"
   ]
  },
  {
   "cell_type": "code",
   "execution_count": 22,
   "id": "5f671898",
   "metadata": {},
   "outputs": [
    {
     "name": "stdout",
     "output_type": "stream",
     "text": [
      "[array([[1.8203413]], dtype=float32), array([29.30418], dtype=float32)]\n"
     ]
    }
   ],
   "source": [
    "print(model.get_weights())"
   ]
  },
  {
   "cell_type": "markdown",
   "id": "c4a5b26d",
   "metadata": {},
   "source": [
    "У нас всего 1 нейрон и 2 весовых коэффициента\n",
    "\n",
    "1.82 и 29.3\n",
    "\n",
    "Достаточно близкие к математрической модели"
   ]
  },
  {
   "cell_type": "code",
   "execution_count": null,
   "id": "79ed134e",
   "metadata": {},
   "outputs": [],
   "source": []
  }
 ],
 "metadata": {
  "kernelspec": {
   "display_name": "Python 3 (ipykernel)",
   "language": "python",
   "name": "python3"
  },
  "language_info": {
   "codemirror_mode": {
    "name": "ipython",
    "version": 3
   },
   "file_extension": ".py",
   "mimetype": "text/x-python",
   "name": "python",
   "nbconvert_exporter": "python",
   "pygments_lexer": "ipython3",
   "version": "3.9.13"
  }
 },
 "nbformat": 4,
 "nbformat_minor": 5
}
