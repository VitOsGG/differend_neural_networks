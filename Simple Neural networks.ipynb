{
 "cells": [
  {
   "cell_type": "code",
   "execution_count": 14,
   "id": "ec0c83a3",
   "metadata": {},
   "outputs": [],
   "source": [
    "import numpy as np"
   ]
  },
  {
   "cell_type": "code",
   "execution_count": 19,
   "id": "a975dc04",
   "metadata": {},
   "outputs": [
    {
     "name": "stdout",
     "output_type": "stream",
     "text": [
      "Значение сумм на нейронах скрытого слоя: [ 0.3 -0.5]\n",
      "Значение на выходных нейронов скрытого слоя: [0 0]\n",
      "Выходные значения HC: 0\n",
      "Созвонимся\n"
     ]
    }
   ],
   "source": [
    "def act(x):\n",
    "    return 0 if x < 0.5 else 1\n",
    "\n",
    "\n",
    "def go(house, rock, attr):\n",
    "    x = np.array([house, rock, attr]) # водной сигнал 0 - нет, 1 - да(есть)\n",
    "    w11 = [0.3, 0.3, 0] #веса для первого слоя матрицы\n",
    "    w12 = [0.4, -0.5, 1]  #веса для второго слоя матрицы\n",
    "    weight1 = np.array([w11, w12]) #матрица 2х3: 2 нейрона у каждого по 3 связи\n",
    "    weight2 = np.array([-1, 1]) #матрица 1х2 вектор связи для выходного нейрона: 1 выходной нейрон и 2 связи от двух нейронов внутреннего слоя\n",
    "    \n",
    "    sum_hidden = np.dot(weight1, x) #сумма для скрытых нейронов (матричное умножение)\n",
    "    print('Значение сумм на нейронах скрытого слоя: '+str(sum_hidden))\n",
    "    \n",
    "    out_hidden = np.array([act(x) for x in sum_hidden]) #пропускаем через функцию активации(которая  определяет нравится паренб девушке или нет)\n",
    "    print('Значение на выходных нейронов скрытого слоя: '+str(out_hidden))\n",
    "    \n",
    "    sum_end = np.dot(weight2, out_hidden) #сумма на выходном нейроне последнего слоя (веса * выходные значения скрытого слоя)\n",
    "    y = act(sum_end) #пропускаем сумму через функцию активации и получаем результат\n",
    "    print(\"Выходные значения HC: \"+str(y))\n",
    "    return y\n",
    "    \n",
    "house = 0\n",
    "rock = 1\n",
    "attr = 0\n",
    "\n",
    "res = go(house, rock, attr)\n",
    "if res == 1:\n",
    "    print('Ты мне нравишься')\n",
    "else:\n",
    "    print('Созвонимся')\n",
    "    "
   ]
  },
  {
   "cell_type": "code",
   "execution_count": null,
   "id": "cf7de8b0",
   "metadata": {},
   "outputs": [],
   "source": []
  }
 ],
 "metadata": {
  "kernelspec": {
   "display_name": "Python 3 (ipykernel)",
   "language": "python",
   "name": "python3"
  },
  "language_info": {
   "codemirror_mode": {
    "name": "ipython",
    "version": 3
   },
   "file_extension": ".py",
   "mimetype": "text/x-python",
   "name": "python",
   "nbconvert_exporter": "python",
   "pygments_lexer": "ipython3",
   "version": "3.9.13"
  }
 },
 "nbformat": 4,
 "nbformat_minor": 5
}
