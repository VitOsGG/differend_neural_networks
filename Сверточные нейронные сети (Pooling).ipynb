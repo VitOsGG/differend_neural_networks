{
 "cells": [
  {
   "cell_type": "markdown",
   "id": "bd1f1ded",
   "metadata": {},
   "source": [
    "**Convolutional Neural Networks (CNN)**"
   ]
  },
  {
   "cell_type": "markdown",
   "id": "3e5dddb4",
   "metadata": {},
   "source": [
    "Чаще всего используется при работе с графическими данными"
   ]
  },
  {
   "cell_type": "markdown",
   "id": "0fc94c64",
   "metadata": {},
   "source": [
    "Входной сигнал подается частично (не все изображение, а его часть). Например квадрат 3 * 3. Потом квадрат перемешается в сторону на опредленный шаг. Область сканирования шагает по изображению и каждый шаг подается на отдельный нейрон.При это весовые коэффициенты одинаковые и все сканирование производится на группе нейронов. Далее повторное сканирование только на другую группу нейронов с другими весовыми коэффициентами. И так далее n-групп нейронов."
   ]
  },
  {
   "cell_type": "markdown",
   "id": "e36c3c9e",
   "metadata": {},
   "source": [
    "Весовые коэфф не меняются внутри группы. Мы имеем окно (3 * 3 пикселя). Мы имеем набор числа умножаемые на весовые коэфф + биас. И получаем выходной сигнал. И тд для каждого смещения (шага) и каждого нейрона. Получаем 3 * 3 пискелей (для каждого отдельный весовой коэфф и + биас) = 10 параметров.\n",
    "\n",
    "n групп * 10 параметров = 10n - это свертка \n",
    "\n",
    "окно сканирования - импульсный отклик фильтра (ядро фильтра)"
   ]
  },
  {
   "cell_type": "markdown",
   "id": "b812686f",
   "metadata": {},
   "source": [
    "Удобно то, что каждая группа нейронов выделяет отдельные элементы изображения (одна выделяет прямые линни, другая косые, третья вертикальные и тд)"
   ]
  },
  {
   "cell_type": "markdown",
   "id": "27a18931",
   "metadata": {},
   "source": [
    "На выходи получаем набор карт признаков (каналы)"
   ]
  },
  {
   "cell_type": "markdown",
   "id": "e2b958df",
   "metadata": {},
   "source": [
    "Получая карты признаков, следущая группа нейронов (слой) может уже отпределять более сложные признаки (элипсы, кривые и тд)"
   ]
  },
  {
   "cell_type": "markdown",
   "id": "bca38370",
   "metadata": {},
   "source": [
    "Если мы рассматриваем цветное изображение. То у нас отдельный фильтр для красного, сигнего и зеленого. Получаем карты признаков по цветам Они складываются и прибаляется биас к общей сумме цветов. Общую сумму мы пропускаем через функцию активации и получаем итоговый цвет."
   ]
  },
  {
   "cell_type": "markdown",
   "id": "15649c48",
   "metadata": {},
   "source": [
    "Так же по периметру изображеия добавляются по 1 пискелю. Для нормального перемещения по изображению. "
   ]
  },
  {
   "cell_type": "markdown",
   "id": "ea5a1412",
   "metadata": {},
   "source": [
    "**Pooling**\n",
    "\n",
    "Изменение масштаба"
   ]
  },
  {
   "cell_type": "markdown",
   "id": "76d99666",
   "metadata": {},
   "source": [
    "MaxPooling - отбор наибольших значений (всю карту признаков прогоняем маленьким окном) и выбираем иаксимальное знаечние. И составлем другую картц по меньше состоящей только из максимальных значений в квадратах. "
   ]
  },
  {
   "cell_type": "markdown",
   "id": "18fad281",
   "metadata": {},
   "source": [
    "MinPooling и AveragePooling работают аналогично"
   ]
  },
  {
   "cell_type": "markdown",
   "id": "d635ac1f",
   "metadata": {},
   "source": [
    "Анализ на более крупном масштабе (нейроном проще выбрать более общие признаки)"
   ]
  },
  {
   "cell_type": "markdown",
   "id": "e587fff1",
   "metadata": {},
   "source": [
    "**Общая архитектура сверточной НС:**"
   ]
  },
  {
   "cell_type": "markdown",
   "id": "cf823506",
   "metadata": {},
   "source": [
    "1. Подаем изображение 32 * 32 пикселя\n",
    "\n",
    "2. Проходит через 10 каналов 1-го скрытого слоя (получаем карту признаков 32 * 32 и 10 каналов)\n",
    "\n",
    "3. MaxPooling (увеличиваем масштаб, получаем 16 * 16 и 10 каналов) - теперь берем этот тензор и воспринимаем его как многоканальное изображение\n",
    "\n",
    "4. Анализируем новый тензор через 30 групп нейронов (получаем 16 * 16 с 30 каналами)\n",
    "\n",
    "5. MaxPooling (увеличиваем масштаб, получаем 8 * 8 и 30 каналов) - теперь берем этот тензор и воспринимаем его как многоканальное изображение\n",
    "\n",
    "И можем так продолжать пока не будет размер изображения 1 * 1 пискель\n",
    "\n",
    "Или прекратить и подать вычесленные карты признаков в обычную полносвязную НС."
   ]
  },
  {
   "cell_type": "markdown",
   "id": "9dad3c86",
   "metadata": {},
   "source": [
    "Реализация:"
   ]
  },
  {
   "cell_type": "markdown",
   "id": "e4dc9a52",
   "metadata": {},
   "source": [
    "Описание согласно концепции CNN"
   ]
  },
  {
   "cell_type": "code",
   "execution_count": null,
   "id": "0c8447d9",
   "metadata": {},
   "outputs": [],
   "source": [
    "keras.layers.Conv2D(filters, kernel_size, strides=(1, 1), ....)\n",
    "#filters - число ядер (каналов)\n",
    "#kernel_size - размер ядер (в виде кортежей вдух чисел)\n",
    "#strides - шаг сканирования фильтров по осям плоскости (по умолчанию один пиксел)\n",
    "#подробнее в документации"
   ]
  },
  {
   "cell_type": "markdown",
   "id": "35ac4d7f",
   "metadata": {},
   "source": [
    "Пример на основе проекта распознования рукописных цифр создаем первый сверточный слой"
   ]
  },
  {
   "cell_type": "code",
   "execution_count": null,
   "id": "1a3ff922",
   "metadata": {},
   "outputs": [],
   "source": [
    "model = keras.Sequential([\n",
    "    Conv2D(32, (3,3), padding='same', activation='rule', input_shape=(28, 28, 1)),\n",
    "])\n",
    "#Указываем число фильтров, выбираем сами, пусть будет 32\n",
    "\n",
    "#Размеры ядер фильтров(3,3) \n",
    "\n",
    "#padding='same' - если мы хотим, чтобы выходная карта признаков имела тот же размер, что и размер изображения \n",
    "  #(размер изображения в проекте распознования рукописного текста 28 * 28), то мы прописываем этот параметр \n",
    "  #(он добавляет по периметру необходимое колличество дополнительный пикселей.)\n",
    "\n",
    "#activation='rule' - функция активации\n",
    "\n",
    "#input_shape=(28, 28, 1) формат входных данных"
   ]
  },
  {
   "cell_type": "markdown",
   "id": "4e9d5674",
   "metadata": {},
   "source": [
    "Следующий шаг согласно концепции CNN"
   ]
  },
  {
   "cell_type": "code",
   "execution_count": null,
   "id": "c0774578",
   "metadata": {},
   "outputs": [],
   "source": [
    "keras.layers.MaxPooling2D(pool_size=(2,2), strides=None, padding='valid', data_format=None)\n",
    "#pool_size=(2,2) - размер окна в котором выбирается максимальное значение\n",
    "#strides=None - шаг сканирования по координатам плоскости\n",
    "#padding='valid' - не нужно добавлять доп значения по периметру квадрата"
   ]
  },
  {
   "cell_type": "code",
   "execution_count": null,
   "id": "d4fa064a",
   "metadata": {},
   "outputs": [],
   "source": [
    "model = keras.Sequential([\n",
    "    Conv2D(32, (3,3), padding='same', activation='rule', input_shape=(28, 28, 1)),\n",
    "    MaxPooling2D((2, 2), strides=2),\n",
    "])\n",
    "\n",
    "#Размер рамки сканирования 2 * 2 и сдвиг на 2 пикселя, чтобы окна не перекрывали друг друга"
   ]
  },
  {
   "cell_type": "markdown",
   "id": "7b820ce0",
   "metadata": {},
   "source": [
    "По аналогии добавим еще 2 сверточных слоя уже в саму программу. \n",
    "\n",
    "**Программу повторим**"
   ]
  },
  {
   "cell_type": "code",
   "execution_count": 27,
   "id": "9a0b4ea9",
   "metadata": {},
   "outputs": [],
   "source": [
    "import tensorflow as tf\n",
    "from tensorflow import keras\n",
    "from tensorflow.keras.layers import Dense, Flatten, Conv2D, MaxPooling2D\n",
    "from tensorflow.keras.datasets import mnist\n",
    "import numpy as np\n",
    "import matplotlib.pyplot as plt\n",
    "%matplotlib inline"
   ]
  },
  {
   "cell_type": "code",
   "execution_count": 28,
   "id": "7743f220",
   "metadata": {},
   "outputs": [],
   "source": [
    "(x_train, y_train), (x_test, y_test) = mnist.load_data()\n",
    "\n",
    "#x_train - это изображение (например на изображении написана 5)\n",
    "#y_train - вектор соответсвующий значений цифр - 5\n",
    "#каждое изображение это: 28*28 пикселей размер в градациях серого (0-черный цвет, 255- белый)\n",
    "#60000 - в обучающей выборки и 10000 в тестовой"
   ]
  },
  {
   "cell_type": "code",
   "execution_count": 29,
   "id": "9b22b6ec",
   "metadata": {},
   "outputs": [],
   "source": [
    "x_train = x_train / 255\n",
    "x_test = x_test / 255"
   ]
  },
  {
   "cell_type": "code",
   "execution_count": 30,
   "id": "b764869e",
   "metadata": {},
   "outputs": [],
   "source": [
    "y_train_cat = keras.utils.to_categorical(y_train, 10) #10 - длина вектора\n",
    "y_test_cat = keras.utils.to_categorical(y_test, 10)"
   ]
  },
  {
   "cell_type": "markdown",
   "id": "0622aa9a",
   "metadata": {},
   "source": [
    "#тензор (входные данные) должны иметь параметры: размер батча, число строк и число столбцов у карты признаков или  у входного изображения, и число каналов: если входное изображение в градациях серого то это 1 канал, если цветное изображение то 3 канала, если карта признаков, на выходе фильтра , то сколько фильтров стоилько и каналов)"
   ]
  },
  {
   "cell_type": "code",
   "execution_count": 31,
   "id": "355a8497",
   "metadata": {},
   "outputs": [],
   "source": [
    "#добавляем ось в входные данные, потому что такой формат данных нужен для обраюотки сверточной НС (в свертке) и в слое (макспуллинг)/  data_format=None - тот самый параметр\n",
    "\n",
    "x_train = np.expand_dims(x_train, axis=3)\n",
    "x_test = np.expand_dims(x_test, axis=3)"
   ]
  },
  {
   "cell_type": "code",
   "execution_count": 32,
   "id": "be1c96d6",
   "metadata": {},
   "outputs": [
    {
     "data": {
      "image/png": "[encoded data removed]",
      "text/plain": [
       "<Figure size 1000x500 with 25 Axes>"
      ]
     },
     "metadata": {},
     "output_type": "display_data"
    }
   ],
   "source": [
    "plt.figure(figsize=(10, 5))\n",
    "for i in range(25):\n",
    "    plt.subplot(5, 5, i+1)\n",
    "    plt.xticks([])\n",
    "    plt.yticks([])\n",
    "    plt.imshow(x_train[i], cmap=plt.cm.binary)\n",
    "    \n",
    "plt.show()"
   ]
  },
  {
   "cell_type": "code",
   "execution_count": 33,
   "id": "633ddd05",
   "metadata": {},
   "outputs": [
    {
     "name": "stdout",
     "output_type": "stream",
     "text": [
      "Model: \"sequential_2\"\n",
      "_________________________________________________________________\n",
      " Layer (type)                Output Shape              Param #   \n",
      "=================================================================\n",
      " conv2d_2 (Conv2D)           (None, 28, 28, 32)        320       \n",
      "                                                                 \n",
      " max_pooling2d_2 (MaxPooling  (None, 14, 14, 32)       0         \n",
      " 2D)                                                             \n",
      "                                                                 \n",
      " conv2d_3 (Conv2D)           (None, 14, 14, 64)        18496     \n",
      "                                                                 \n",
      " max_pooling2d_3 (MaxPooling  (None, 7, 7, 64)         0         \n",
      " 2D)                                                             \n",
      "                                                                 \n",
      " flatten_2 (Flatten)         (None, 3136)              0         \n",
      "                                                                 \n",
      " dense_4 (Dense)             (None, 128)               401536    \n",
      "                                                                 \n",
      " dense_5 (Dense)             (None, 10)                1290      \n",
      "                                                                 \n",
      "=================================================================\n",
      "Total params: 421,642\n",
      "Trainable params: 421,642\n",
      "Non-trainable params: 0\n",
      "_________________________________________________________________\n",
      "None\n"
     ]
    }
   ],
   "source": [
    "model = keras.Sequential([\n",
    "    \n",
    "    #первый слой сверточной НС\n",
    "    Conv2D(32, (3, 3), padding='same', activation='relu', input_shape=(28, 28, 1)), \n",
    "    #32 фильтра, замер ядер 3 * 3, #подача на вход изображения 28*28 пикселей. 1байт в градации серого.\n",
    "    #после выполнения этой свертки мы получили размерность карты признаком 28 * 28 элементов\n",
    "    MaxPooling2D((2, 2), strides=2),\n",
    "    #после выполнения этой операции карта признаков уменьшилась в 2 раза, до 14 * 14\n",
    "    \n",
    "    \n",
    "    #второй слой сверточной НС\n",
    "    Conv2D(64, (3, 3), padding='same', activation='relu'), \n",
    "    #64 фильтра, замер ядер 3 * 3\n",
    "    MaxPooling2D((2, 2), strides=2),\n",
    "    #здесь мы уже получаем 7 * 7 и 64 канала\n",
    "    \n",
    "    Flatten(), #тензор 7 * 7 вытягивает в один прямой вектор\n",
    "    Dense(128, activation='relu'), #внутренний слой из 128 нейронов и функцией акивации relu\n",
    "    Dense(10, activation='softmax') #выходной слой из 10 нейронов и функцией активации softmax\n",
    "])\n",
    "\n",
    "print(model.summary())  #вывод структуры НС в консоль"
   ]
  },
  {
   "cell_type": "markdown",
   "id": "81ec25a2",
   "metadata": {},
   "source": [
    "**Первый слой (сверточный) содержить 320 коэффициентов**\n",
    "\n",
    "32 фильтра * (3 * 3) размер ядра + 1 биас = 32 * (9+1) = 320\n",
    "\n",
    "**Второй слой (сверточный)  18496**\n",
    "\n",
    "На вход в второй слой подается 32 канальный тензор и он обрабатывается 64 фильтрами - каждый фильтр это ядро (3 * 3) + 1 (биас)\n",
    "\n",
    "(3 * 3 * 32 + 1) * 64 = 18496 коэффициентов\n",
    "\n",
    "**Третий (полносвязныц) слой 401536**\n",
    "\n",
    "Подается тензор 7 * 7 и 64 канала и смещение + 1 (биас)\n",
    "\n",
    "7 * 7 * 64 + 1 = 3137\n",
    "\n",
    "3137 * 128 = 401536\n",
    "\n",
    "**Четверный (полносвязный) слой 1290**\n",
    "\n",
    "Подается 128 + 1 = 129 значений\n",
    "\n",
    "Они связаны с 10 нейронами выходного слоя \n",
    "\n",
    "129 * 10 = 1290"
   ]
  },
  {
   "cell_type": "code",
   "execution_count": 34,
   "id": "a1043c95",
   "metadata": {},
   "outputs": [],
   "source": [
    "model.compile(optimizer='adam',\n",
    "            loss='categorical_crossentropy', #наилучший вариант для задач классификации\n",
    "            metrics=['accuracy']) #нам важно получить большой % точности распознания (правильно распознает 99/100 цифр) - пример"
   ]
  },
  {
   "cell_type": "markdown",
   "id": "ce31ead1",
   "metadata": {},
   "source": [
    "Обучаем.\n",
    "\n",
    "Обучение происходит дольше.\n",
    "\n",
    "это уже глубокое обучение. Сверточная НС."
   ]
  },
  {
   "cell_type": "code",
   "execution_count": 35,
   "id": "02ceda5e",
   "metadata": {},
   "outputs": [
    {
     "name": "stdout",
     "output_type": "stream",
     "text": [
      "Epoch 1/5\n",
      "1500/1500 [==============================] - 32s 21ms/step - loss: 0.1362 - accuracy: 0.9581 - val_loss: 0.0525 - val_accuracy: 0.9833\n",
      "Epoch 2/5\n",
      "1500/1500 [==============================] - 31s 20ms/step - loss: 0.0447 - accuracy: 0.9857 - val_loss: 0.0423 - val_accuracy: 0.9860\n",
      "Epoch 3/5\n",
      "1500/1500 [==============================] - 29s 19ms/step - loss: 0.0297 - accuracy: 0.9905 - val_loss: 0.0422 - val_accuracy: 0.9880\n",
      "Epoch 4/5\n",
      "1500/1500 [==============================] - 29s 19ms/step - loss: 0.0227 - accuracy: 0.9926 - val_loss: 0.0376 - val_accuracy: 0.9893\n",
      "Epoch 5/5\n",
      "1500/1500 [==============================] - 29s 19ms/step - loss: 0.0161 - accuracy: 0.9946 - val_loss: 0.0443 - val_accuracy: 0.9876\n"
     ]
    },
    {
     "data": {
      "text/plain": [
       "<keras.callbacks.History at 0x20fa54509a0>"
      ]
     },
     "execution_count": 35,
     "metadata": {},
     "output_type": "execute_result"
    }
   ],
   "source": [
    "model.fit(x_train, y_train_cat, batch_size=32, epochs=5, validation_split=0.2)\n",
    "#x_train - картинки с цифрами\n",
    "#y_train_cat - ответы к каждой картинрки (но уже в виде вектора - [1, 0, 0, 0, 0, 0, 0, 0, 0, 0])\n",
    "#batch_size=32 - бач, после каждой 32 картинки будет происходит корректировка весов \n",
    "#epochs=5 - 5 эпох, 5 раз все картинки пройду по кругу для обучения \n",
    "#validation_split=0.2 соотношения разбиения выборки на тренировочную и валидационную(проверочную)"
   ]
  },
  {
   "cell_type": "code",
   "execution_count": 36,
   "id": "68b6dbd2",
   "metadata": {},
   "outputs": [
    {
     "name": "stdout",
     "output_type": "stream",
     "text": [
      "313/313 [==============================] - 2s 5ms/step - loss: 0.0389 - accuracy: 0.9879\n"
     ]
    },
    {
     "data": {
      "text/plain": [
       "[0.038912009447813034, 0.9879000186920166]"
      ]
     },
     "execution_count": 36,
     "metadata": {},
     "output_type": "execute_result"
    }
   ],
   "source": [
    "model.evaluate(x_test, y_test_cat)"
   ]
  },
  {
   "cell_type": "markdown",
   "id": "8400259b",
   "metadata": {},
   "source": [
    "**Получаем точность:  0.987**"
   ]
  },
  {
   "cell_type": "markdown",
   "id": "1b88a629",
   "metadata": {},
   "source": [
    "Conv1D - аудио (одномерный сигнал)\n",
    "\n",
    "Conv2D - изображение (двумерный сигнал)\n",
    "\n",
    "Conv3D - видео (трехмерный сигнал)"
   ]
  },
  {
   "cell_type": "markdown",
   "id": "baa818df",
   "metadata": {},
   "source": [
    "Есть и другие виды свертки"
   ]
  },
  {
   "cell_type": "code",
   "execution_count": null,
   "id": "d462b2f6",
   "metadata": {},
   "outputs": [],
   "source": []
  }
 ],
 "metadata": {
  "kernelspec": {
   "display_name": "Python 3 (ipykernel)",
   "language": "python",
   "name": "python3"
  },
  "language_info": {
   "codemirror_mode": {
    "name": "ipython",
    "version": 3
   },
   "file_extension": ".py",
   "mimetype": "text/x-python",
   "name": "python",
   "nbconvert_exporter": "python",
   "pygments_lexer": "ipython3",
   "version": "3.9.13"
  }
 },
 "nbformat": 4,
 "nbformat_minor": 5
}
